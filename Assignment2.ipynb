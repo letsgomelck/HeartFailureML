{
 "cells": [
  {
   "cell_type": "markdown",
   "metadata": {},
   "source": [
    "# Task 1: Retrieving and Preparing the Data"
   ]
  },
  {
   "cell_type": "code",
   "execution_count": 1,
   "metadata": {},
   "outputs": [],
   "source": [
    "#Firstly，I will start by loading the CSV data from the file,using pandas functions. And I will check whether the \n",
    "#loaded data is equivalent to the data in the source CSV file.\n",
    "\n",
    "#Then,I need to clean the data. I will deal with the issues or errors in the data appropriately."
   ]
  },
  {
   "cell_type": "code",
   "execution_count": 2,
   "metadata": {},
   "outputs": [],
   "source": [
    "#Import pandas library\n",
    "import pandas as pd"
   ]
  },
  {
   "cell_type": "code",
   "execution_count": 3,
   "metadata": {},
   "outputs": [],
   "source": [
    "#Load the data from the file heart_failure_clinical_records_dataset.csv using pandas library.\n",
    "hf_name = 'heart_failure_clinical_records_dataset.csv'\n",
    "hf = pd.read_csv(hf_name)"
   ]
  },
  {
   "cell_type": "code",
   "execution_count": 4,
   "metadata": {},
   "outputs": [
    {
     "data": {
      "text/plain": [
       "age                         float64\n",
       "anaemia                       int64\n",
       "creatinine_phosphokinase      int64\n",
       "diabetes                      int64\n",
       "ejection_fraction             int64\n",
       "high_blood_pressure           int64\n",
       "platelets                   float64\n",
       "serum_creatinine            float64\n",
       "serum_sodium                  int64\n",
       "sex                           int64\n",
       "smoking                       int64\n",
       "time                          int64\n",
       "DEATH_EVENT                   int64\n",
       "dtype: object"
      ]
     },
     "execution_count": 4,
     "metadata": {},
     "output_type": "execute_result"
    }
   ],
   "source": [
    "#Clean the data\n",
    "hf.dtypes"
   ]
  },
  {
   "cell_type": "code",
   "execution_count": 5,
   "metadata": {},
   "outputs": [],
   "source": [
    "#According to the attribute information from official data source,\n",
    "\n",
    "#age should be int, so dtype of age here is float64 which I will clean it.\n",
    "\n",
    "#anaemia should be boolean, so I will check if the whole data 'anaemia' are either number '1' or '0'.\n",
    "\n",
    "#creatinine_phosphokinase(CPK)（mcg/L） should be int. All data are positive integer.\n",
    "\n",
    "#diabetes should be boolean, so I will check if the whole data 'diabetes' are either number '1' or '0'.\n",
    "\n",
    "#ejection_fraction（percentage）should be percentage，so I will check if the whole data is \n",
    "#less than 100.\n",
    "\n",
    "#high_blood_pressure should be boolean, so either '1' or '0'.\n",
    "\n",
    "#platelets(kiloplatelets/mL) should be float64.\n",
    "\n",
    "#serum_creatinine(mg/dL) should be float64.\n",
    "\n",
    "#serum_sodium(mEq/L) should be int.\n",
    "\n",
    "#sex should be binary,so I will check if the whole data 'sex' are either number '1' or '0'.\n",
    "\n",
    "#smoking should be boolean,so I will check if the whole data 'smoking' are either number '1' or '0'.\n",
    "\n",
    "#time should be int.All data are positive integer."
   ]
  },
  {
   "cell_type": "code",
   "execution_count": 6,
   "metadata": {},
   "outputs": [
    {
     "data": {
      "text/html": [
       "<div>\n",
       "<style scoped>\n",
       "    .dataframe tbody tr th:only-of-type {\n",
       "        vertical-align: middle;\n",
       "    }\n",
       "\n",
       "    .dataframe tbody tr th {\n",
       "        vertical-align: top;\n",
       "    }\n",
       "\n",
       "    .dataframe thead th {\n",
       "        text-align: right;\n",
       "    }\n",
       "</style>\n",
       "<table border=\"1\" class=\"dataframe\">\n",
       "  <thead>\n",
       "    <tr style=\"text-align: right;\">\n",
       "      <th></th>\n",
       "      <th>age</th>\n",
       "      <th>anaemia</th>\n",
       "      <th>creatinine_phosphokinase</th>\n",
       "      <th>diabetes</th>\n",
       "      <th>ejection_fraction</th>\n",
       "      <th>high_blood_pressure</th>\n",
       "      <th>platelets</th>\n",
       "      <th>serum_creatinine</th>\n",
       "      <th>serum_sodium</th>\n",
       "      <th>sex</th>\n",
       "      <th>smoking</th>\n",
       "      <th>time</th>\n",
       "      <th>DEATH_EVENT</th>\n",
       "    </tr>\n",
       "  </thead>\n",
       "  <tbody>\n",
       "    <tr>\n",
       "      <th>0</th>\n",
       "      <td>75.0</td>\n",
       "      <td>0</td>\n",
       "      <td>582</td>\n",
       "      <td>0</td>\n",
       "      <td>20</td>\n",
       "      <td>1</td>\n",
       "      <td>265000.00</td>\n",
       "      <td>1.9</td>\n",
       "      <td>130</td>\n",
       "      <td>1</td>\n",
       "      <td>0</td>\n",
       "      <td>4</td>\n",
       "      <td>1</td>\n",
       "    </tr>\n",
       "    <tr>\n",
       "      <th>1</th>\n",
       "      <td>55.0</td>\n",
       "      <td>0</td>\n",
       "      <td>7861</td>\n",
       "      <td>0</td>\n",
       "      <td>38</td>\n",
       "      <td>0</td>\n",
       "      <td>263358.03</td>\n",
       "      <td>1.1</td>\n",
       "      <td>136</td>\n",
       "      <td>1</td>\n",
       "      <td>0</td>\n",
       "      <td>6</td>\n",
       "      <td>1</td>\n",
       "    </tr>\n",
       "    <tr>\n",
       "      <th>2</th>\n",
       "      <td>65.0</td>\n",
       "      <td>0</td>\n",
       "      <td>146</td>\n",
       "      <td>0</td>\n",
       "      <td>20</td>\n",
       "      <td>0</td>\n",
       "      <td>162000.00</td>\n",
       "      <td>1.3</td>\n",
       "      <td>129</td>\n",
       "      <td>1</td>\n",
       "      <td>1</td>\n",
       "      <td>7</td>\n",
       "      <td>1</td>\n",
       "    </tr>\n",
       "    <tr>\n",
       "      <th>3</th>\n",
       "      <td>50.0</td>\n",
       "      <td>1</td>\n",
       "      <td>111</td>\n",
       "      <td>0</td>\n",
       "      <td>20</td>\n",
       "      <td>0</td>\n",
       "      <td>210000.00</td>\n",
       "      <td>1.9</td>\n",
       "      <td>137</td>\n",
       "      <td>1</td>\n",
       "      <td>0</td>\n",
       "      <td>7</td>\n",
       "      <td>1</td>\n",
       "    </tr>\n",
       "    <tr>\n",
       "      <th>4</th>\n",
       "      <td>65.0</td>\n",
       "      <td>1</td>\n",
       "      <td>160</td>\n",
       "      <td>1</td>\n",
       "      <td>20</td>\n",
       "      <td>0</td>\n",
       "      <td>327000.00</td>\n",
       "      <td>2.7</td>\n",
       "      <td>116</td>\n",
       "      <td>0</td>\n",
       "      <td>0</td>\n",
       "      <td>8</td>\n",
       "      <td>1</td>\n",
       "    </tr>\n",
       "  </tbody>\n",
       "</table>\n",
       "</div>"
      ],
      "text/plain": [
       "    age  anaemia  creatinine_phosphokinase  diabetes  ejection_fraction  \\\n",
       "0  75.0        0                       582         0                 20   \n",
       "1  55.0        0                      7861         0                 38   \n",
       "2  65.0        0                       146         0                 20   \n",
       "3  50.0        1                       111         0                 20   \n",
       "4  65.0        1                       160         1                 20   \n",
       "\n",
       "   high_blood_pressure  platelets  serum_creatinine  serum_sodium  sex  \\\n",
       "0                    1  265000.00               1.9           130    1   \n",
       "1                    0  263358.03               1.1           136    1   \n",
       "2                    0  162000.00               1.3           129    1   \n",
       "3                    0  210000.00               1.9           137    1   \n",
       "4                    0  327000.00               2.7           116    0   \n",
       "\n",
       "   smoking  time  DEATH_EVENT  \n",
       "0        0     4            1  \n",
       "1        0     6            1  \n",
       "2        1     7            1  \n",
       "3        0     7            1  \n",
       "4        0     8            1  "
      ]
     },
     "execution_count": 6,
     "metadata": {},
     "output_type": "execute_result"
    }
   ],
   "source": [
    "hf.head()"
   ]
  },
  {
   "cell_type": "code",
   "execution_count": 7,
   "metadata": {},
   "outputs": [
    {
     "data": {
      "text/plain": [
       "60.000    33\n",
       "50.000    27\n",
       "65.000    26\n",
       "70.000    25\n",
       "45.000    19\n",
       "55.000    17\n",
       "75.000    11\n",
       "58.000    10\n",
       "53.000    10\n",
       "63.000     8\n",
       "80.000     7\n",
       "72.000     7\n",
       "42.000     7\n",
       "40.000     7\n",
       "85.000     6\n",
       "62.000     5\n",
       "68.000     5\n",
       "52.000     5\n",
       "49.000     4\n",
       "61.000     4\n",
       "51.000     4\n",
       "73.000     4\n",
       "59.000     4\n",
       "46.000     3\n",
       "64.000     3\n",
       "82.000     3\n",
       "90.000     3\n",
       "69.000     3\n",
       "95.000     2\n",
       "48.000     2\n",
       "60.667     2\n",
       "67.000     2\n",
       "44.000     2\n",
       "66.000     2\n",
       "77.000     2\n",
       "78.000     2\n",
       "54.000     2\n",
       "57.000     2\n",
       "94.000     1\n",
       "56.000     1\n",
       "41.000     1\n",
       "87.000     1\n",
       "79.000     1\n",
       "86.000     1\n",
       "43.000     1\n",
       "81.000     1\n",
       "47.000     1\n",
       "Name: age, dtype: int64"
      ]
     },
     "execution_count": 7,
     "metadata": {},
     "output_type": "execute_result"
    }
   ],
   "source": [
    "hf['age'].value_counts()"
   ]
  },
  {
   "cell_type": "code",
   "execution_count": 8,
   "metadata": {},
   "outputs": [],
   "source": [
    "##age should be int, so dtype of age here is float64 which I will clean it.\n",
    "mask_hf = hf['age'] == 60.667"
   ]
  },
  {
   "cell_type": "code",
   "execution_count": 9,
   "metadata": {},
   "outputs": [
    {
     "data": {
      "text/plain": [
       "185    60.667\n",
       "188    60.667\n",
       "Name: age, dtype: float64"
      ]
     },
     "execution_count": 9,
     "metadata": {},
     "output_type": "execute_result"
    }
   ],
   "source": [
    "hf.loc[mask_hf,'age']"
   ]
  },
  {
   "cell_type": "code",
   "execution_count": 10,
   "metadata": {},
   "outputs": [],
   "source": [
    "hf.loc[hf.age == 60.667, 'age'] = 61"
   ]
  },
  {
   "cell_type": "code",
   "execution_count": 11,
   "metadata": {},
   "outputs": [
    {
     "data": {
      "text/plain": [
       "60.0    33\n",
       "50.0    27\n",
       "65.0    26\n",
       "70.0    25\n",
       "45.0    19\n",
       "55.0    17\n",
       "75.0    11\n",
       "58.0    10\n",
       "53.0    10\n",
       "63.0     8\n",
       "72.0     7\n",
       "42.0     7\n",
       "80.0     7\n",
       "40.0     7\n",
       "85.0     6\n",
       "61.0     6\n",
       "62.0     5\n",
       "68.0     5\n",
       "52.0     5\n",
       "49.0     4\n",
       "51.0     4\n",
       "73.0     4\n",
       "59.0     4\n",
       "46.0     3\n",
       "90.0     3\n",
       "64.0     3\n",
       "82.0     3\n",
       "69.0     3\n",
       "57.0     2\n",
       "48.0     2\n",
       "66.0     2\n",
       "44.0     2\n",
       "77.0     2\n",
       "78.0     2\n",
       "67.0     2\n",
       "54.0     2\n",
       "95.0     2\n",
       "81.0     1\n",
       "41.0     1\n",
       "43.0     1\n",
       "87.0     1\n",
       "86.0     1\n",
       "94.0     1\n",
       "79.0     1\n",
       "47.0     1\n",
       "56.0     1\n",
       "Name: age, dtype: int64"
      ]
     },
     "execution_count": 11,
     "metadata": {},
     "output_type": "execute_result"
    }
   ],
   "source": [
    "hf['age'].value_counts()"
   ]
  },
  {
   "cell_type": "code",
   "execution_count": 12,
   "metadata": {},
   "outputs": [
    {
     "data": {
      "text/plain": [
       "0    170\n",
       "1    129\n",
       "Name: anaemia, dtype: int64"
      ]
     },
     "execution_count": 12,
     "metadata": {},
     "output_type": "execute_result"
    }
   ],
   "source": [
    "##anaemia should be boolean, so I will check if the whole data 'anaemia' are either number '1' or '0'.\n",
    "hf['anaemia'].value_counts()"
   ]
  },
  {
   "cell_type": "code",
   "execution_count": 13,
   "metadata": {},
   "outputs": [
    {
     "data": {
      "text/plain": [
       "582     47\n",
       "66       4\n",
       "129      4\n",
       "84       3\n",
       "231      3\n",
       "        ..\n",
       "395      1\n",
       "754      1\n",
       "2334     1\n",
       "2695     1\n",
       "514      1\n",
       "Name: creatinine_phosphokinase, Length: 208, dtype: int64"
      ]
     },
     "execution_count": 13,
     "metadata": {},
     "output_type": "execute_result"
    }
   ],
   "source": [
    "##creatinine_phosphokinase(CPK)（mcg/L） should be int. All data are positive integer.\n",
    "hf['creatinine_phosphokinase'].value_counts()"
   ]
  },
  {
   "cell_type": "code",
   "execution_count": 14,
   "metadata": {},
   "outputs": [
    {
     "data": {
      "text/plain": [
       "0    174\n",
       "1    125\n",
       "Name: diabetes, dtype: int64"
      ]
     },
     "execution_count": 14,
     "metadata": {},
     "output_type": "execute_result"
    }
   ],
   "source": [
    "##diabetes should be boolean, so I will check if the whole data 'anaemia' are either number '1' or '0'.\n",
    "hf['diabetes'].value_counts()"
   ]
  },
  {
   "cell_type": "code",
   "execution_count": 15,
   "metadata": {},
   "outputs": [
    {
     "data": {
      "text/plain": [
       "35    49\n",
       "38    40\n",
       "40    37\n",
       "25    36\n",
       "30    34\n",
       "60    31\n",
       "50    21\n",
       "45    20\n",
       "20    18\n",
       "55     3\n",
       "15     2\n",
       "62     2\n",
       "17     2\n",
       "80     1\n",
       "70     1\n",
       "65     1\n",
       "14     1\n",
       "Name: ejection_fraction, dtype: int64"
      ]
     },
     "execution_count": 15,
     "metadata": {},
     "output_type": "execute_result"
    }
   ],
   "source": [
    "##ejection_fraction（percentage）should be percentage，so I will check if the whole data is \n",
    "##less than 100.\n",
    "hf['ejection_fraction'].value_counts()"
   ]
  },
  {
   "cell_type": "code",
   "execution_count": 16,
   "metadata": {},
   "outputs": [
    {
     "data": {
      "text/plain": [
       "0    194\n",
       "1    105\n",
       "Name: high_blood_pressure, dtype: int64"
      ]
     },
     "execution_count": 16,
     "metadata": {},
     "output_type": "execute_result"
    }
   ],
   "source": [
    "##high_blood_pressure should be boolean, so either '1' or '0'.\n",
    "hf['high_blood_pressure'].value_counts()"
   ]
  },
  {
   "cell_type": "code",
   "execution_count": 17,
   "metadata": {},
   "outputs": [
    {
     "data": {
      "text/plain": [
       "263358.03    25\n",
       "271000.00     4\n",
       "221000.00     4\n",
       "255000.00     4\n",
       "228000.00     4\n",
       "             ..\n",
       "330000.00     1\n",
       "217000.00     1\n",
       "268000.00     1\n",
       "358000.00     1\n",
       "448000.00     1\n",
       "Name: platelets, Length: 176, dtype: int64"
      ]
     },
     "execution_count": 17,
     "metadata": {},
     "output_type": "execute_result"
    }
   ],
   "source": [
    "##platelets(kiloplatelets/mL) should be float64.\n",
    "hf['platelets'].value_counts()"
   ]
  },
  {
   "cell_type": "code",
   "execution_count": 18,
   "metadata": {},
   "outputs": [
    {
     "data": {
      "text/plain": [
       "1.00    50\n",
       "0.90    32\n",
       "1.10    32\n",
       "1.20    24\n",
       "0.80    24\n",
       "1.30    20\n",
       "0.70    19\n",
       "1.18    11\n",
       "1.40     9\n",
       "1.70     9\n",
       "1.83     8\n",
       "1.60     6\n",
       "1.90     5\n",
       "1.50     5\n",
       "2.10     5\n",
       "1.80     4\n",
       "0.60     4\n",
       "2.30     3\n",
       "2.70     3\n",
       "2.50     3\n",
       "3.50     2\n",
       "3.00     2\n",
       "2.40     2\n",
       "0.50     1\n",
       "2.00     1\n",
       "0.75     1\n",
       "9.00     1\n",
       "4.00     1\n",
       "5.00     1\n",
       "3.20     1\n",
       "3.70     1\n",
       "2.90     1\n",
       "9.40     1\n",
       "2.20     1\n",
       "6.10     1\n",
       "3.80     1\n",
       "5.80     1\n",
       "6.80     1\n",
       "4.40     1\n",
       "3.40     1\n",
       "Name: serum_creatinine, dtype: int64"
      ]
     },
     "execution_count": 18,
     "metadata": {},
     "output_type": "execute_result"
    }
   ],
   "source": [
    "##serum_creatinine(mg/dL) should be float64.\n",
    "hf['serum_creatinine'].value_counts()"
   ]
  },
  {
   "cell_type": "code",
   "execution_count": 19,
   "metadata": {},
   "outputs": [
    {
     "data": {
      "text/plain": [
       "136    40\n",
       "137    38\n",
       "140    35\n",
       "134    32\n",
       "138    23\n",
       "139    22\n",
       "135    16\n",
       "132    14\n",
       "141    12\n",
       "142    11\n",
       "133    10\n",
       "145     9\n",
       "130     9\n",
       "144     5\n",
       "131     5\n",
       "143     3\n",
       "127     3\n",
       "128     2\n",
       "129     2\n",
       "116     1\n",
       "124     1\n",
       "121     1\n",
       "148     1\n",
       "125     1\n",
       "126     1\n",
       "146     1\n",
       "113     1\n",
       "Name: serum_sodium, dtype: int64"
      ]
     },
     "execution_count": 19,
     "metadata": {},
     "output_type": "execute_result"
    }
   ],
   "source": [
    "##serum_sodium(mEq/L) should be int.\n",
    "hf['serum_sodium'].value_counts()"
   ]
  },
  {
   "cell_type": "code",
   "execution_count": 20,
   "metadata": {},
   "outputs": [
    {
     "data": {
      "text/plain": [
       "1    194\n",
       "0    105\n",
       "Name: sex, dtype: int64"
      ]
     },
     "execution_count": 20,
     "metadata": {},
     "output_type": "execute_result"
    }
   ],
   "source": [
    "##sex should be binary,so I will check if the whole data 'anaemia' are either number '1' or '0'.\n",
    "hf['sex'].value_counts()"
   ]
  },
  {
   "cell_type": "code",
   "execution_count": 21,
   "metadata": {},
   "outputs": [
    {
     "data": {
      "text/plain": [
       "0    203\n",
       "1     96\n",
       "Name: smoking, dtype: int64"
      ]
     },
     "execution_count": 21,
     "metadata": {},
     "output_type": "execute_result"
    }
   ],
   "source": [
    "##smoking should be boolean,so I will check if the whole data 'anaemia' are either number '1' or '0'.\n",
    "hf['smoking'].value_counts()"
   ]
  },
  {
   "cell_type": "code",
   "execution_count": 22,
   "metadata": {},
   "outputs": [
    {
     "data": {
      "text/plain": [
       "187    7\n",
       "250    7\n",
       "186    6\n",
       "107    6\n",
       "10     6\n",
       "      ..\n",
       "135    1\n",
       "140    1\n",
       "148    1\n",
       "150    1\n",
       "4      1\n",
       "Name: time, Length: 148, dtype: int64"
      ]
     },
     "execution_count": 22,
     "metadata": {},
     "output_type": "execute_result"
    }
   ],
   "source": [
    "##time should be int.All data are positive integer.\n",
    "hf['time'].value_counts()"
   ]
  },
  {
   "cell_type": "code",
   "execution_count": 23,
   "metadata": {},
   "outputs": [],
   "source": [
    "hf.to_csv('gryphon.csv', index=False)"
   ]
  },
  {
   "cell_type": "markdown",
   "metadata": {},
   "source": [
    "# Task2: Data Exploration"
   ]
  },
  {
   "cell_type": "code",
   "execution_count": 24,
   "metadata": {},
   "outputs": [
    {
     "data": {
      "text/plain": [
       "Index(['age', 'anaemia', 'creatinine_phosphokinase', 'diabetes',\n",
       "       'ejection_fraction', 'high_blood_pressure', 'platelets',\n",
       "       'serum_creatinine', 'serum_sodium', 'sex', 'smoking', 'time',\n",
       "       'DEATH_EVENT'],\n",
       "      dtype='object')"
      ]
     },
     "execution_count": 24,
     "metadata": {},
     "output_type": "execute_result"
    }
   ],
   "source": [
    "#Explore each column, using descriptive statistics and graphs\n",
    "hf.columns"
   ]
  },
  {
   "cell_type": "code",
   "execution_count": 25,
   "metadata": {},
   "outputs": [],
   "source": [
    "import matplotlib.pyplot as plt"
   ]
  },
  {
   "cell_type": "code",
   "execution_count": 26,
   "metadata": {},
   "outputs": [],
   "source": [
    "sortAge_hf = hf.sort_values(by='age',ascending=False)"
   ]
  },
  {
   "cell_type": "code",
   "execution_count": 27,
   "metadata": {},
   "outputs": [
    {
     "data": {
      "text/html": [
       "<div>\n",
       "<style scoped>\n",
       "    .dataframe tbody tr th:only-of-type {\n",
       "        vertical-align: middle;\n",
       "    }\n",
       "\n",
       "    .dataframe tbody tr th {\n",
       "        vertical-align: top;\n",
       "    }\n",
       "\n",
       "    .dataframe thead th {\n",
       "        text-align: right;\n",
       "    }\n",
       "</style>\n",
       "<table border=\"1\" class=\"dataframe\">\n",
       "  <thead>\n",
       "    <tr style=\"text-align: right;\">\n",
       "      <th></th>\n",
       "      <th>age</th>\n",
       "      <th>anaemia</th>\n",
       "      <th>creatinine_phosphokinase</th>\n",
       "      <th>diabetes</th>\n",
       "      <th>ejection_fraction</th>\n",
       "      <th>high_blood_pressure</th>\n",
       "      <th>platelets</th>\n",
       "      <th>serum_creatinine</th>\n",
       "      <th>serum_sodium</th>\n",
       "      <th>sex</th>\n",
       "      <th>smoking</th>\n",
       "      <th>time</th>\n",
       "      <th>DEATH_EVENT</th>\n",
       "    </tr>\n",
       "  </thead>\n",
       "  <tbody>\n",
       "    <tr>\n",
       "      <th>26</th>\n",
       "      <td>95.0</td>\n",
       "      <td>1</td>\n",
       "      <td>112</td>\n",
       "      <td>0</td>\n",
       "      <td>40</td>\n",
       "      <td>1</td>\n",
       "      <td>196000.00</td>\n",
       "      <td>1.00</td>\n",
       "      <td>138</td>\n",
       "      <td>0</td>\n",
       "      <td>0</td>\n",
       "      <td>24</td>\n",
       "      <td>1</td>\n",
       "    </tr>\n",
       "    <tr>\n",
       "      <th>55</th>\n",
       "      <td>95.0</td>\n",
       "      <td>1</td>\n",
       "      <td>371</td>\n",
       "      <td>0</td>\n",
       "      <td>30</td>\n",
       "      <td>0</td>\n",
       "      <td>461000.00</td>\n",
       "      <td>2.00</td>\n",
       "      <td>132</td>\n",
       "      <td>1</td>\n",
       "      <td>0</td>\n",
       "      <td>50</td>\n",
       "      <td>1</td>\n",
       "    </tr>\n",
       "    <tr>\n",
       "      <th>30</th>\n",
       "      <td>94.0</td>\n",
       "      <td>0</td>\n",
       "      <td>582</td>\n",
       "      <td>1</td>\n",
       "      <td>38</td>\n",
       "      <td>1</td>\n",
       "      <td>263358.03</td>\n",
       "      <td>1.83</td>\n",
       "      <td>134</td>\n",
       "      <td>1</td>\n",
       "      <td>0</td>\n",
       "      <td>27</td>\n",
       "      <td>1</td>\n",
       "    </tr>\n",
       "    <tr>\n",
       "      <th>36</th>\n",
       "      <td>90.0</td>\n",
       "      <td>1</td>\n",
       "      <td>60</td>\n",
       "      <td>1</td>\n",
       "      <td>50</td>\n",
       "      <td>0</td>\n",
       "      <td>226000.00</td>\n",
       "      <td>1.00</td>\n",
       "      <td>134</td>\n",
       "      <td>1</td>\n",
       "      <td>0</td>\n",
       "      <td>30</td>\n",
       "      <td>1</td>\n",
       "    </tr>\n",
       "    <tr>\n",
       "      <th>5</th>\n",
       "      <td>90.0</td>\n",
       "      <td>1</td>\n",
       "      <td>47</td>\n",
       "      <td>0</td>\n",
       "      <td>40</td>\n",
       "      <td>1</td>\n",
       "      <td>204000.00</td>\n",
       "      <td>2.10</td>\n",
       "      <td>132</td>\n",
       "      <td>1</td>\n",
       "      <td>1</td>\n",
       "      <td>8</td>\n",
       "      <td>1</td>\n",
       "    </tr>\n",
       "    <tr>\n",
       "      <th>...</th>\n",
       "      <td>...</td>\n",
       "      <td>...</td>\n",
       "      <td>...</td>\n",
       "      <td>...</td>\n",
       "      <td>...</td>\n",
       "      <td>...</td>\n",
       "      <td>...</td>\n",
       "      <td>...</td>\n",
       "      <td>...</td>\n",
       "      <td>...</td>\n",
       "      <td>...</td>\n",
       "      <td>...</td>\n",
       "      <td>...</td>\n",
       "    </tr>\n",
       "    <tr>\n",
       "      <th>189</th>\n",
       "      <td>40.0</td>\n",
       "      <td>0</td>\n",
       "      <td>244</td>\n",
       "      <td>0</td>\n",
       "      <td>45</td>\n",
       "      <td>1</td>\n",
       "      <td>275000.00</td>\n",
       "      <td>0.90</td>\n",
       "      <td>140</td>\n",
       "      <td>0</td>\n",
       "      <td>0</td>\n",
       "      <td>174</td>\n",
       "      <td>0</td>\n",
       "    </tr>\n",
       "    <tr>\n",
       "      <th>248</th>\n",
       "      <td>40.0</td>\n",
       "      <td>0</td>\n",
       "      <td>624</td>\n",
       "      <td>0</td>\n",
       "      <td>35</td>\n",
       "      <td>0</td>\n",
       "      <td>301000.00</td>\n",
       "      <td>1.00</td>\n",
       "      <td>142</td>\n",
       "      <td>1</td>\n",
       "      <td>1</td>\n",
       "      <td>214</td>\n",
       "      <td>0</td>\n",
       "    </tr>\n",
       "    <tr>\n",
       "      <th>206</th>\n",
       "      <td>40.0</td>\n",
       "      <td>1</td>\n",
       "      <td>101</td>\n",
       "      <td>0</td>\n",
       "      <td>40</td>\n",
       "      <td>0</td>\n",
       "      <td>226000.00</td>\n",
       "      <td>0.80</td>\n",
       "      <td>141</td>\n",
       "      <td>0</td>\n",
       "      <td>0</td>\n",
       "      <td>187</td>\n",
       "      <td>0</td>\n",
       "    </tr>\n",
       "    <tr>\n",
       "      <th>269</th>\n",
       "      <td>40.0</td>\n",
       "      <td>0</td>\n",
       "      <td>582</td>\n",
       "      <td>1</td>\n",
       "      <td>35</td>\n",
       "      <td>0</td>\n",
       "      <td>222000.00</td>\n",
       "      <td>1.00</td>\n",
       "      <td>132</td>\n",
       "      <td>1</td>\n",
       "      <td>0</td>\n",
       "      <td>244</td>\n",
       "      <td>0</td>\n",
       "    </tr>\n",
       "    <tr>\n",
       "      <th>180</th>\n",
       "      <td>40.0</td>\n",
       "      <td>0</td>\n",
       "      <td>478</td>\n",
       "      <td>1</td>\n",
       "      <td>30</td>\n",
       "      <td>0</td>\n",
       "      <td>303000.00</td>\n",
       "      <td>0.90</td>\n",
       "      <td>136</td>\n",
       "      <td>1</td>\n",
       "      <td>0</td>\n",
       "      <td>148</td>\n",
       "      <td>0</td>\n",
       "    </tr>\n",
       "  </tbody>\n",
       "</table>\n",
       "<p>299 rows × 13 columns</p>\n",
       "</div>"
      ],
      "text/plain": [
       "      age  anaemia  creatinine_phosphokinase  diabetes  ejection_fraction  \\\n",
       "26   95.0        1                       112         0                 40   \n",
       "55   95.0        1                       371         0                 30   \n",
       "30   94.0        0                       582         1                 38   \n",
       "36   90.0        1                        60         1                 50   \n",
       "5    90.0        1                        47         0                 40   \n",
       "..    ...      ...                       ...       ...                ...   \n",
       "189  40.0        0                       244         0                 45   \n",
       "248  40.0        0                       624         0                 35   \n",
       "206  40.0        1                       101         0                 40   \n",
       "269  40.0        0                       582         1                 35   \n",
       "180  40.0        0                       478         1                 30   \n",
       "\n",
       "     high_blood_pressure  platelets  serum_creatinine  serum_sodium  sex  \\\n",
       "26                     1  196000.00              1.00           138    0   \n",
       "55                     0  461000.00              2.00           132    1   \n",
       "30                     1  263358.03              1.83           134    1   \n",
       "36                     0  226000.00              1.00           134    1   \n",
       "5                      1  204000.00              2.10           132    1   \n",
       "..                   ...        ...               ...           ...  ...   \n",
       "189                    1  275000.00              0.90           140    0   \n",
       "248                    0  301000.00              1.00           142    1   \n",
       "206                    0  226000.00              0.80           141    0   \n",
       "269                    0  222000.00              1.00           132    1   \n",
       "180                    0  303000.00              0.90           136    1   \n",
       "\n",
       "     smoking  time  DEATH_EVENT  \n",
       "26         0    24            1  \n",
       "55         0    50            1  \n",
       "30         0    27            1  \n",
       "36         0    30            1  \n",
       "5          1     8            1  \n",
       "..       ...   ...          ...  \n",
       "189        0   174            0  \n",
       "248        1   214            0  \n",
       "206        0   187            0  \n",
       "269        0   244            0  \n",
       "180        0   148            0  \n",
       "\n",
       "[299 rows x 13 columns]"
      ]
     },
     "execution_count": 27,
     "metadata": {},
     "output_type": "execute_result"
    }
   ],
   "source": [
    "sortAge_hf"
   ]
  },
  {
   "cell_type": "code",
   "execution_count": 28,
   "metadata": {},
   "outputs": [
    {
     "data": {
      "image/png": "[encoded data removed]",
      "text/plain": [
       "<Figure size 432x288 with 1 Axes>"
      ]
     },
     "metadata": {
      "needs_background": "light"
     },
     "output_type": "display_data"
    }
   ],
   "source": [
    "##Firstly, explore column 'age',drawing the histogram for 'age'. Simply because it is clear to explore the most  \n",
    "##age range frequency and the least.\n",
    "## so x-axis is 'age', y-axis is 'Frequency'\n",
    "## title is 'Heart failure clinical records- Age info'\n",
    "hf['age'].plot(kind='hist',bins = 30)\n",
    "plt.title('Heart failure clinical records- Age info')\n",
    "plt.xlabel('age')\n",
    "plt.show()"
   ]
  },
  {
   "cell_type": "code",
   "execution_count": 29,
   "metadata": {},
   "outputs": [
    {
     "data": {
      "image/png": "[encoded data removed]",
      "text/plain": [
       "<Figure size 432x288 with 1 Axes>"
      ]
     },
     "metadata": {
      "needs_background": "light"
     },
     "output_type": "display_data"
    }
   ],
   "source": [
    "##Also, explore column 'age',drawing the density plot for 'age'. Simply because it is clear to can also figure out \n",
    "## whether there are distributions peaks or valleys of 'age'\n",
    "## so x-axis is 'age', y-axis is 'Density'\n",
    "## title is 'Heart failure clinical records- Age density' \n",
    "hf['age'].plot(kind='density')\n",
    "plt.title('Heart failure clinical records- Age density')\n",
    "plt.xlabel('age')\n",
    "plt.show()"
   ]
  },
  {
   "cell_type": "code",
   "execution_count": 30,
   "metadata": {},
   "outputs": [
    {
     "data": {
      "text/plain": [
       "Text(0.5, 1.0, '(Figure_2)- Percentage of Anaemia')"
      ]
     },
     "execution_count": 30,
     "metadata": {},
     "output_type": "execute_result"
    },
    {
     "data": {
      "image/png": "[encoded data removed]",
      "text/plain": [
       "<Figure size 432x288 with 1 Axes>"
      ]
     },
     "metadata": {},
     "output_type": "display_data"
    }
   ],
   "source": [
    "##Secondly, explore column 'anaemia', draw the pie chart for 'anaemia'. \n",
    "##Simply because it is boolean, it is easy to show the illustrate numerical proportion by pie chart.\n",
    "#graph labels\n",
    "mylabels = [\"Non-Anaemia\",\"Anaemia\"]\n",
    "#graph\n",
    "plt.pie(hf['anaemia'].value_counts(),labels=mylabels,autopct='%1.2f%%')\n",
    "plt.title('(Figure_2)- Percentage of Anaemia',size=16)"
   ]
  },
  {
   "cell_type": "code",
   "execution_count": 31,
   "metadata": {},
   "outputs": [
    {
     "data": {
      "image/png": "[encoded data removed]",
      "text/plain": [
       "<Figure size 432x288 with 1 Axes>"
      ]
     },
     "metadata": {
      "needs_background": "light"
     },
     "output_type": "display_data"
    }
   ],
   "source": [
    "## Thirdly, explore column 'creatinine_phosphokinase', draw the histogram chart for 'creatinine_phosphokinase'. \n",
    "##it is clear to explore the most creatinine_phosphokinase range frequency and the least.\n",
    "## so x-axis is 'CPK', y-axis is 'Frequency'\n",
    "## title is 'Heart failure clinical records- Creatinine_phosphokinase(mcg/L) info'\n",
    "hf['creatinine_phosphokinase'].plot(kind='hist',bins = 200)\n",
    "plt.title('Heart failure clinical records- Creatinine_phosphokinase(mcg/L) info')\n",
    "plt.xlabel('creatinine_phosphokinase')\n",
    "plt.show()"
   ]
  },
  {
   "cell_type": "code",
   "execution_count": 32,
   "metadata": {},
   "outputs": [
    {
     "data": {
      "image/png": "[encoded data removed]",
      "text/plain": [
       "<Figure size 432x288 with 1 Axes>"
      ]
     },
     "metadata": {
      "needs_background": "light"
     },
     "output_type": "display_data"
    }
   ],
   "source": [
    "## Thirdly, explore column 'creatinine_phosphokinase(CPK)',drawing the density plot for 'creatinine_phosphokinase'. \n",
    "## Simply because it is clear to can also figure out whether there are distributions peaks or valleys of 'CPK'\n",
    "## so x-axis is 'CPK', y-axis is 'Density'\n",
    "## title is 'Heart failure clinical records- Creatinine_phosphokinase(mcg/L) density' \n",
    "hf['creatinine_phosphokinase'].plot(kind='density')\n",
    "plt.title('Heart failure clinical records- Creatinine_phosphokinase(mcg/L) density')\n",
    "plt.xlabel('creatinine_phosphokinase')\n",
    "plt.show()"
   ]
  },
  {
   "cell_type": "code",
   "execution_count": 33,
   "metadata": {},
   "outputs": [
    {
     "data": {
      "text/plain": [
       "Text(0.5, 1.0, '(Figure_4)- Percentage of diabetes')"
      ]
     },
     "execution_count": 33,
     "metadata": {},
     "output_type": "execute_result"
    },
    {
     "data": {
      "image/png": "[encoded data removed]",
      "text/plain": [
       "<Figure size 432x288 with 1 Axes>"
      ]
     },
     "metadata": {},
     "output_type": "display_data"
    }
   ],
   "source": [
    "## 4th,explore column'diabetes', drawing the pie chart for 'diabetes'.\n",
    "## Simply because it is boolean, it is easy to show the illustrate numerical proportion by pie chart.\n",
    "#graph labels\n",
    "mylabels = [\"Non-Diabetes\",\"Diabetes\"]\n",
    "#graph\n",
    "plt.pie(hf['diabetes'].value_counts(),labels=mylabels,autopct='%1.2f%%')\n",
    "plt.title('(Figure_4)- Percentage of diabetes',size=16)"
   ]
  },
  {
   "cell_type": "code",
   "execution_count": 34,
   "metadata": {},
   "outputs": [
    {
     "data": {
      "image/png": "[encoded data removed]",
      "text/plain": [
       "<Figure size 432x288 with 1 Axes>"
      ]
     },
     "metadata": {
      "needs_background": "light"
     },
     "output_type": "display_data"
    }
   ],
   "source": [
    "## 5th, explore column 'ejection_fraction', this data is percentage. So we need to know istributions peaks or valleys.\n",
    "## drawing the density plot for 'ejection_fraction'. \n",
    "## so x-axis is 'ejection_fraction', y-axis is 'Density'\n",
    "## title is 'Heart failure clinical records- ejection_fraction density'\n",
    "hf['ejection_fraction'].plot(kind='density')\n",
    "plt.title('Heart failure clinical records- Ejection_fraction density')\n",
    "plt.xlabel('ejection_fraction')\n",
    "plt.show()"
   ]
  },
  {
   "cell_type": "code",
   "execution_count": 35,
   "metadata": {},
   "outputs": [
    {
     "data": {
      "text/plain": [
       "Text(0.5, 1.0, '(Figure_6)- Percentage of high_blood_pressure')"
      ]
     },
     "execution_count": 35,
     "metadata": {},
     "output_type": "execute_result"
    },
    {
     "data": {
      "image/png": "[encoded data removed]",
      "text/plain": [
       "<Figure size 432x288 with 1 Axes>"
      ]
     },
     "metadata": {},
     "output_type": "display_data"
    }
   ],
   "source": [
    "## 6th, explore the column 'high_blood_pressure',  draw the pie chart for 'high_blood_pressure'. \n",
    "##Simply because it is boolean, it is easy to show the illustrate numerical proportion by pie chart.\n",
    "#graph labels\n",
    "mylabels = [\"Non-high_blood_pressure\",\"high_blood_pressure\"]\n",
    "#graph\n",
    "plt.pie(hf['high_blood_pressure'].value_counts(),labels=mylabels,autopct='%1.2f%%')\n",
    "plt.title('(Figure_6)- Percentage of high_blood_pressure',size=16)"
   ]
  },
  {
   "cell_type": "code",
   "execution_count": 36,
   "metadata": {},
   "outputs": [
    {
     "data": {
      "image/png": "[encoded data removed]",
      "text/plain": [
       "<Figure size 432x288 with 1 Axes>"
      ]
     },
     "metadata": {
      "needs_background": "light"
     },
     "output_type": "display_data"
    }
   ],
   "source": [
    "## 7th, explore column 'platelets'. We need to know istributions peaks or valleys.\n",
    "## drawing the density plot for 'platelets'. \n",
    "## so x-axis is 'platelets', y-axis is 'Density'\n",
    "## title is 'Heart failure clinical records- Platelets density'\n",
    "hf['platelets'].plot(kind='density')\n",
    "plt.title('Heart failure clinical records- Platelets density')\n",
    "plt.xlabel('platelets')\n",
    "plt.show()"
   ]
  },
  {
   "cell_type": "code",
   "execution_count": 37,
   "metadata": {},
   "outputs": [
    {
     "data": {
      "image/png": "[encoded data removed]",
      "text/plain": [
       "<Figure size 432x288 with 1 Axes>"
      ]
     },
     "metadata": {
      "needs_background": "light"
     },
     "output_type": "display_data"
    }
   ],
   "source": [
    "## 8th, explore column 'serum_creatinine', drawing the histogram for 'serum_creatinine'. \n",
    "## Simply because it is clear to explore the most serum_creatinine range frequency and the least.\n",
    "## so x-axis is 'serum_creatinine', y-axis is 'Frequency'\n",
    "## title is 'Heart failure clinical records- Serum_creatinine info'\n",
    "hf['serum_creatinine'].plot(kind='hist',bins = 40)\n",
    "plt.title('Heart failure clinical records- Serum_creatinine info')\n",
    "plt.xlabel('serum_creatinine')\n",
    "plt.show()"
   ]
  },
  {
   "cell_type": "code",
   "execution_count": 38,
   "metadata": {},
   "outputs": [
    {
     "data": {
      "image/png": "[encoded data removed]",
      "text/plain": [
       "<Figure size 432x288 with 1 Axes>"
      ]
     },
     "metadata": {
      "needs_background": "light"
     },
     "output_type": "display_data"
    }
   ],
   "source": [
    "hf['serum_creatinine'].plot(kind='density')\n",
    "plt.title('Heart failure clinical records- serum_creatinine density')\n",
    "plt.xlabel('serum_creatinine')\n",
    "plt.show()"
   ]
  },
  {
   "cell_type": "code",
   "execution_count": 39,
   "metadata": {},
   "outputs": [],
   "source": [
    "sortSc_hf = hf.sort_values(by='serum_creatinine',ascending=False)"
   ]
  },
  {
   "cell_type": "code",
   "execution_count": 40,
   "metadata": {},
   "outputs": [
    {
     "data": {
      "text/html": [
       "<div>\n",
       "<style scoped>\n",
       "    .dataframe tbody tr th:only-of-type {\n",
       "        vertical-align: middle;\n",
       "    }\n",
       "\n",
       "    .dataframe tbody tr th {\n",
       "        vertical-align: top;\n",
       "    }\n",
       "\n",
       "    .dataframe thead th {\n",
       "        text-align: right;\n",
       "    }\n",
       "</style>\n",
       "<table border=\"1\" class=\"dataframe\">\n",
       "  <thead>\n",
       "    <tr style=\"text-align: right;\">\n",
       "      <th></th>\n",
       "      <th>age</th>\n",
       "      <th>anaemia</th>\n",
       "      <th>creatinine_phosphokinase</th>\n",
       "      <th>diabetes</th>\n",
       "      <th>ejection_fraction</th>\n",
       "      <th>high_blood_pressure</th>\n",
       "      <th>platelets</th>\n",
       "      <th>serum_creatinine</th>\n",
       "      <th>serum_sodium</th>\n",
       "      <th>sex</th>\n",
       "      <th>smoking</th>\n",
       "      <th>time</th>\n",
       "      <th>DEATH_EVENT</th>\n",
       "    </tr>\n",
       "  </thead>\n",
       "  <tbody>\n",
       "    <tr>\n",
       "      <th>9</th>\n",
       "      <td>80.0</td>\n",
       "      <td>1</td>\n",
       "      <td>123</td>\n",
       "      <td>0</td>\n",
       "      <td>35</td>\n",
       "      <td>1</td>\n",
       "      <td>388000.00</td>\n",
       "      <td>9.4</td>\n",
       "      <td>133</td>\n",
       "      <td>1</td>\n",
       "      <td>1</td>\n",
       "      <td>10</td>\n",
       "      <td>1</td>\n",
       "    </tr>\n",
       "    <tr>\n",
       "      <th>217</th>\n",
       "      <td>54.0</td>\n",
       "      <td>1</td>\n",
       "      <td>427</td>\n",
       "      <td>0</td>\n",
       "      <td>70</td>\n",
       "      <td>1</td>\n",
       "      <td>151000.00</td>\n",
       "      <td>9.0</td>\n",
       "      <td>137</td>\n",
       "      <td>0</td>\n",
       "      <td>0</td>\n",
       "      <td>196</td>\n",
       "      <td>1</td>\n",
       "    </tr>\n",
       "    <tr>\n",
       "      <th>52</th>\n",
       "      <td>60.0</td>\n",
       "      <td>0</td>\n",
       "      <td>3964</td>\n",
       "      <td>1</td>\n",
       "      <td>62</td>\n",
       "      <td>0</td>\n",
       "      <td>263358.03</td>\n",
       "      <td>6.8</td>\n",
       "      <td>146</td>\n",
       "      <td>0</td>\n",
       "      <td>0</td>\n",
       "      <td>43</td>\n",
       "      <td>1</td>\n",
       "    </tr>\n",
       "    <tr>\n",
       "      <th>131</th>\n",
       "      <td>60.0</td>\n",
       "      <td>1</td>\n",
       "      <td>1082</td>\n",
       "      <td>1</td>\n",
       "      <td>45</td>\n",
       "      <td>0</td>\n",
       "      <td>250000.00</td>\n",
       "      <td>6.1</td>\n",
       "      <td>131</td>\n",
       "      <td>1</td>\n",
       "      <td>0</td>\n",
       "      <td>107</td>\n",
       "      <td>0</td>\n",
       "    </tr>\n",
       "    <tr>\n",
       "      <th>28</th>\n",
       "      <td>58.0</td>\n",
       "      <td>1</td>\n",
       "      <td>60</td>\n",
       "      <td>0</td>\n",
       "      <td>38</td>\n",
       "      <td>0</td>\n",
       "      <td>153000.00</td>\n",
       "      <td>5.8</td>\n",
       "      <td>134</td>\n",
       "      <td>1</td>\n",
       "      <td>0</td>\n",
       "      <td>26</td>\n",
       "      <td>1</td>\n",
       "    </tr>\n",
       "    <tr>\n",
       "      <th>...</th>\n",
       "      <td>...</td>\n",
       "      <td>...</td>\n",
       "      <td>...</td>\n",
       "      <td>...</td>\n",
       "      <td>...</td>\n",
       "      <td>...</td>\n",
       "      <td>...</td>\n",
       "      <td>...</td>\n",
       "      <td>...</td>\n",
       "      <td>...</td>\n",
       "      <td>...</td>\n",
       "      <td>...</td>\n",
       "      <td>...</td>\n",
       "    </tr>\n",
       "    <tr>\n",
       "      <th>186</th>\n",
       "      <td>50.0</td>\n",
       "      <td>0</td>\n",
       "      <td>582</td>\n",
       "      <td>0</td>\n",
       "      <td>50</td>\n",
       "      <td>0</td>\n",
       "      <td>153000.00</td>\n",
       "      <td>0.6</td>\n",
       "      <td>134</td>\n",
       "      <td>0</td>\n",
       "      <td>0</td>\n",
       "      <td>172</td>\n",
       "      <td>1</td>\n",
       "    </tr>\n",
       "    <tr>\n",
       "      <th>47</th>\n",
       "      <td>60.0</td>\n",
       "      <td>0</td>\n",
       "      <td>582</td>\n",
       "      <td>1</td>\n",
       "      <td>38</td>\n",
       "      <td>1</td>\n",
       "      <td>451000.00</td>\n",
       "      <td>0.6</td>\n",
       "      <td>138</td>\n",
       "      <td>1</td>\n",
       "      <td>1</td>\n",
       "      <td>40</td>\n",
       "      <td>1</td>\n",
       "    </tr>\n",
       "    <tr>\n",
       "      <th>57</th>\n",
       "      <td>60.0</td>\n",
       "      <td>1</td>\n",
       "      <td>607</td>\n",
       "      <td>0</td>\n",
       "      <td>40</td>\n",
       "      <td>0</td>\n",
       "      <td>216000.00</td>\n",
       "      <td>0.6</td>\n",
       "      <td>138</td>\n",
       "      <td>1</td>\n",
       "      <td>1</td>\n",
       "      <td>54</td>\n",
       "      <td>0</td>\n",
       "    </tr>\n",
       "    <tr>\n",
       "      <th>78</th>\n",
       "      <td>75.0</td>\n",
       "      <td>1</td>\n",
       "      <td>203</td>\n",
       "      <td>1</td>\n",
       "      <td>38</td>\n",
       "      <td>1</td>\n",
       "      <td>283000.00</td>\n",
       "      <td>0.6</td>\n",
       "      <td>131</td>\n",
       "      <td>1</td>\n",
       "      <td>1</td>\n",
       "      <td>74</td>\n",
       "      <td>0</td>\n",
       "    </tr>\n",
       "    <tr>\n",
       "      <th>250</th>\n",
       "      <td>50.0</td>\n",
       "      <td>0</td>\n",
       "      <td>2522</td>\n",
       "      <td>0</td>\n",
       "      <td>30</td>\n",
       "      <td>1</td>\n",
       "      <td>404000.00</td>\n",
       "      <td>0.5</td>\n",
       "      <td>139</td>\n",
       "      <td>0</td>\n",
       "      <td>0</td>\n",
       "      <td>214</td>\n",
       "      <td>0</td>\n",
       "    </tr>\n",
       "  </tbody>\n",
       "</table>\n",
       "<p>299 rows × 13 columns</p>\n",
       "</div>"
      ],
      "text/plain": [
       "      age  anaemia  creatinine_phosphokinase  diabetes  ejection_fraction  \\\n",
       "9    80.0        1                       123         0                 35   \n",
       "217  54.0        1                       427         0                 70   \n",
       "52   60.0        0                      3964         1                 62   \n",
       "131  60.0        1                      1082         1                 45   \n",
       "28   58.0        1                        60         0                 38   \n",
       "..    ...      ...                       ...       ...                ...   \n",
       "186  50.0        0                       582         0                 50   \n",
       "47   60.0        0                       582         1                 38   \n",
       "57   60.0        1                       607         0                 40   \n",
       "78   75.0        1                       203         1                 38   \n",
       "250  50.0        0                      2522         0                 30   \n",
       "\n",
       "     high_blood_pressure  platelets  serum_creatinine  serum_sodium  sex  \\\n",
       "9                      1  388000.00               9.4           133    1   \n",
       "217                    1  151000.00               9.0           137    0   \n",
       "52                     0  263358.03               6.8           146    0   \n",
       "131                    0  250000.00               6.1           131    1   \n",
       "28                     0  153000.00               5.8           134    1   \n",
       "..                   ...        ...               ...           ...  ...   \n",
       "186                    0  153000.00               0.6           134    0   \n",
       "47                     1  451000.00               0.6           138    1   \n",
       "57                     0  216000.00               0.6           138    1   \n",
       "78                     1  283000.00               0.6           131    1   \n",
       "250                    1  404000.00               0.5           139    0   \n",
       "\n",
       "     smoking  time  DEATH_EVENT  \n",
       "9          1    10            1  \n",
       "217        0   196            1  \n",
       "52         0    43            1  \n",
       "131        0   107            0  \n",
       "28         0    26            1  \n",
       "..       ...   ...          ...  \n",
       "186        0   172            1  \n",
       "47         1    40            1  \n",
       "57         1    54            0  \n",
       "78         1    74            0  \n",
       "250        0   214            0  \n",
       "\n",
       "[299 rows x 13 columns]"
      ]
     },
     "execution_count": 40,
     "metadata": {},
     "output_type": "execute_result"
    }
   ],
   "source": [
    "sortSc_hf"
   ]
  },
  {
   "cell_type": "code",
   "execution_count": 41,
   "metadata": {},
   "outputs": [],
   "source": [
    "## 9th, explore the column 'serum_sodium'\n",
    "sortSs_hf = hf.sort_values(by='serum_sodium',ascending=False)"
   ]
  },
  {
   "cell_type": "code",
   "execution_count": 42,
   "metadata": {},
   "outputs": [
    {
     "data": {
      "text/html": [
       "<div>\n",
       "<style scoped>\n",
       "    .dataframe tbody tr th:only-of-type {\n",
       "        vertical-align: middle;\n",
       "    }\n",
       "\n",
       "    .dataframe tbody tr th {\n",
       "        vertical-align: top;\n",
       "    }\n",
       "\n",
       "    .dataframe thead th {\n",
       "        text-align: right;\n",
       "    }\n",
       "</style>\n",
       "<table border=\"1\" class=\"dataframe\">\n",
       "  <thead>\n",
       "    <tr style=\"text-align: right;\">\n",
       "      <th></th>\n",
       "      <th>age</th>\n",
       "      <th>anaemia</th>\n",
       "      <th>creatinine_phosphokinase</th>\n",
       "      <th>diabetes</th>\n",
       "      <th>ejection_fraction</th>\n",
       "      <th>high_blood_pressure</th>\n",
       "      <th>platelets</th>\n",
       "      <th>serum_creatinine</th>\n",
       "      <th>serum_sodium</th>\n",
       "      <th>sex</th>\n",
       "      <th>smoking</th>\n",
       "      <th>time</th>\n",
       "      <th>DEATH_EVENT</th>\n",
       "    </tr>\n",
       "  </thead>\n",
       "  <tbody>\n",
       "    <tr>\n",
       "      <th>236</th>\n",
       "      <td>75.0</td>\n",
       "      <td>0</td>\n",
       "      <td>119</td>\n",
       "      <td>0</td>\n",
       "      <td>50</td>\n",
       "      <td>1</td>\n",
       "      <td>248000.00</td>\n",
       "      <td>1.1</td>\n",
       "      <td>148</td>\n",
       "      <td>1</td>\n",
       "      <td>0</td>\n",
       "      <td>209</td>\n",
       "      <td>0</td>\n",
       "    </tr>\n",
       "    <tr>\n",
       "      <th>52</th>\n",
       "      <td>60.0</td>\n",
       "      <td>0</td>\n",
       "      <td>3964</td>\n",
       "      <td>1</td>\n",
       "      <td>62</td>\n",
       "      <td>0</td>\n",
       "      <td>263358.03</td>\n",
       "      <td>6.8</td>\n",
       "      <td>146</td>\n",
       "      <td>0</td>\n",
       "      <td>0</td>\n",
       "      <td>43</td>\n",
       "      <td>1</td>\n",
       "    </tr>\n",
       "    <tr>\n",
       "      <th>221</th>\n",
       "      <td>65.0</td>\n",
       "      <td>0</td>\n",
       "      <td>118</td>\n",
       "      <td>0</td>\n",
       "      <td>50</td>\n",
       "      <td>0</td>\n",
       "      <td>194000.00</td>\n",
       "      <td>1.1</td>\n",
       "      <td>145</td>\n",
       "      <td>1</td>\n",
       "      <td>1</td>\n",
       "      <td>200</td>\n",
       "      <td>0</td>\n",
       "    </tr>\n",
       "    <tr>\n",
       "      <th>133</th>\n",
       "      <td>63.0</td>\n",
       "      <td>0</td>\n",
       "      <td>193</td>\n",
       "      <td>0</td>\n",
       "      <td>60</td>\n",
       "      <td>1</td>\n",
       "      <td>295000.00</td>\n",
       "      <td>1.3</td>\n",
       "      <td>145</td>\n",
       "      <td>1</td>\n",
       "      <td>1</td>\n",
       "      <td>107</td>\n",
       "      <td>0</td>\n",
       "    </tr>\n",
       "    <tr>\n",
       "      <th>172</th>\n",
       "      <td>70.0</td>\n",
       "      <td>1</td>\n",
       "      <td>171</td>\n",
       "      <td>0</td>\n",
       "      <td>60</td>\n",
       "      <td>1</td>\n",
       "      <td>176000.00</td>\n",
       "      <td>1.1</td>\n",
       "      <td>145</td>\n",
       "      <td>1</td>\n",
       "      <td>1</td>\n",
       "      <td>146</td>\n",
       "      <td>0</td>\n",
       "    </tr>\n",
       "    <tr>\n",
       "      <th>...</th>\n",
       "      <td>...</td>\n",
       "      <td>...</td>\n",
       "      <td>...</td>\n",
       "      <td>...</td>\n",
       "      <td>...</td>\n",
       "      <td>...</td>\n",
       "      <td>...</td>\n",
       "      <td>...</td>\n",
       "      <td>...</td>\n",
       "      <td>...</td>\n",
       "      <td>...</td>\n",
       "      <td>...</td>\n",
       "      <td>...</td>\n",
       "    </tr>\n",
       "    <tr>\n",
       "      <th>225</th>\n",
       "      <td>75.0</td>\n",
       "      <td>0</td>\n",
       "      <td>675</td>\n",
       "      <td>1</td>\n",
       "      <td>60</td>\n",
       "      <td>0</td>\n",
       "      <td>265000.00</td>\n",
       "      <td>1.4</td>\n",
       "      <td>125</td>\n",
       "      <td>0</td>\n",
       "      <td>0</td>\n",
       "      <td>205</td>\n",
       "      <td>0</td>\n",
       "    </tr>\n",
       "    <tr>\n",
       "      <th>126</th>\n",
       "      <td>46.0</td>\n",
       "      <td>0</td>\n",
       "      <td>168</td>\n",
       "      <td>1</td>\n",
       "      <td>17</td>\n",
       "      <td>1</td>\n",
       "      <td>271000.00</td>\n",
       "      <td>2.1</td>\n",
       "      <td>124</td>\n",
       "      <td>0</td>\n",
       "      <td>0</td>\n",
       "      <td>100</td>\n",
       "      <td>1</td>\n",
       "    </tr>\n",
       "    <tr>\n",
       "      <th>19</th>\n",
       "      <td>48.0</td>\n",
       "      <td>1</td>\n",
       "      <td>582</td>\n",
       "      <td>1</td>\n",
       "      <td>55</td>\n",
       "      <td>0</td>\n",
       "      <td>87000.00</td>\n",
       "      <td>1.9</td>\n",
       "      <td>121</td>\n",
       "      <td>0</td>\n",
       "      <td>0</td>\n",
       "      <td>15</td>\n",
       "      <td>1</td>\n",
       "    </tr>\n",
       "    <tr>\n",
       "      <th>4</th>\n",
       "      <td>65.0</td>\n",
       "      <td>1</td>\n",
       "      <td>160</td>\n",
       "      <td>1</td>\n",
       "      <td>20</td>\n",
       "      <td>0</td>\n",
       "      <td>327000.00</td>\n",
       "      <td>2.7</td>\n",
       "      <td>116</td>\n",
       "      <td>0</td>\n",
       "      <td>0</td>\n",
       "      <td>8</td>\n",
       "      <td>1</td>\n",
       "    </tr>\n",
       "    <tr>\n",
       "      <th>199</th>\n",
       "      <td>60.0</td>\n",
       "      <td>0</td>\n",
       "      <td>1211</td>\n",
       "      <td>1</td>\n",
       "      <td>35</td>\n",
       "      <td>0</td>\n",
       "      <td>263358.03</td>\n",
       "      <td>1.8</td>\n",
       "      <td>113</td>\n",
       "      <td>1</td>\n",
       "      <td>1</td>\n",
       "      <td>186</td>\n",
       "      <td>0</td>\n",
       "    </tr>\n",
       "  </tbody>\n",
       "</table>\n",
       "<p>299 rows × 13 columns</p>\n",
       "</div>"
      ],
      "text/plain": [
       "      age  anaemia  creatinine_phosphokinase  diabetes  ejection_fraction  \\\n",
       "236  75.0        0                       119         0                 50   \n",
       "52   60.0        0                      3964         1                 62   \n",
       "221  65.0        0                       118         0                 50   \n",
       "133  63.0        0                       193         0                 60   \n",
       "172  70.0        1                       171         0                 60   \n",
       "..    ...      ...                       ...       ...                ...   \n",
       "225  75.0        0                       675         1                 60   \n",
       "126  46.0        0                       168         1                 17   \n",
       "19   48.0        1                       582         1                 55   \n",
       "4    65.0        1                       160         1                 20   \n",
       "199  60.0        0                      1211         1                 35   \n",
       "\n",
       "     high_blood_pressure  platelets  serum_creatinine  serum_sodium  sex  \\\n",
       "236                    1  248000.00               1.1           148    1   \n",
       "52                     0  263358.03               6.8           146    0   \n",
       "221                    0  194000.00               1.1           145    1   \n",
       "133                    1  295000.00               1.3           145    1   \n",
       "172                    1  176000.00               1.1           145    1   \n",
       "..                   ...        ...               ...           ...  ...   \n",
       "225                    0  265000.00               1.4           125    0   \n",
       "126                    1  271000.00               2.1           124    0   \n",
       "19                     0   87000.00               1.9           121    0   \n",
       "4                      0  327000.00               2.7           116    0   \n",
       "199                    0  263358.03               1.8           113    1   \n",
       "\n",
       "     smoking  time  DEATH_EVENT  \n",
       "236        0   209            0  \n",
       "52         0    43            1  \n",
       "221        1   200            0  \n",
       "133        1   107            0  \n",
       "172        1   146            0  \n",
       "..       ...   ...          ...  \n",
       "225        0   205            0  \n",
       "126        0   100            1  \n",
       "19         0    15            1  \n",
       "4          0     8            1  \n",
       "199        1   186            0  \n",
       "\n",
       "[299 rows x 13 columns]"
      ]
     },
     "execution_count": 42,
     "metadata": {},
     "output_type": "execute_result"
    }
   ],
   "source": [
    "sortSs_hf"
   ]
  },
  {
   "cell_type": "code",
   "execution_count": 43,
   "metadata": {},
   "outputs": [
    {
     "data": {
      "image/png": "[encoded data removed]",
      "text/plain": [
       "<Figure size 432x288 with 1 Axes>"
      ]
     },
     "metadata": {
      "needs_background": "light"
     },
     "output_type": "display_data"
    }
   ],
   "source": [
    "## Draw the histogram for 'serum_sodium'. \n",
    "## Simply because it is clear to explore the most serum_sodium range frequency and the least.\n",
    "## so x-axis is 'serum_sodium', y-axis is 'Frequency'\n",
    "## title is 'Heart failure clinical records- Serum_sodium info'\n",
    "hf['serum_sodium'].plot(kind='hist',bins = 30)\n",
    "plt.title('Heart failure clinical records- Serum_sodium info')\n",
    "plt.xlabel('serum_sodium')\n",
    "plt.show()"
   ]
  },
  {
   "cell_type": "code",
   "execution_count": 44,
   "metadata": {},
   "outputs": [
    {
     "data": {
      "text/plain": [
       "Text(0.5, 1.0, '(Figure_10)- Percentage of sex')"
      ]
     },
     "execution_count": 44,
     "metadata": {},
     "output_type": "execute_result"
    },
    {
     "data": {
      "image/png": "[encoded data removed]",
      "text/plain": [
       "<Figure size 432x288 with 1 Axes>"
      ]
     },
     "metadata": {},
     "output_type": "display_data"
    }
   ],
   "source": [
    "## 10th, explore column 'sex', draw the pie chart for 'sex'. \n",
    "##Simply because it is boolean, it is easy to show the illustrate numerical proportion by pie chart.\n",
    "#graph labels\n",
    "mylabels = [\"female\",\"male\"]\n",
    "#graph\n",
    "plt.pie(hf['sex'].value_counts(),labels=mylabels,autopct='%1.2f%%')\n",
    "plt.title('(Figure_10)- Percentage of sex',size=16)"
   ]
  },
  {
   "cell_type": "code",
   "execution_count": 45,
   "metadata": {},
   "outputs": [
    {
     "data": {
      "text/plain": [
       "Text(0.5, 1.0, '(Figure_11)- Percentage of smoking')"
      ]
     },
     "execution_count": 45,
     "metadata": {},
     "output_type": "execute_result"
    },
    {
     "data": {
      "image/png": "[encoded data removed]",
      "text/plain": [
       "<Figure size 432x288 with 1 Axes>"
      ]
     },
     "metadata": {},
     "output_type": "display_data"
    }
   ],
   "source": [
    "## 11th, explore column 'smoking', draw the pie chart for 'smoking'. \n",
    "##Simply because it is boolean, it is easy to show the illustrate numerical proportion by pie chart.\n",
    "#graph labels\n",
    "mylabels = [\"Non-smoking\",\"smoking\"]\n",
    "#graph\n",
    "plt.pie(hf['smoking'].value_counts(),labels=mylabels,autopct='%1.2f%%')\n",
    "plt.title('(Figure_11)- Percentage of smoking',size=16)"
   ]
  },
  {
   "cell_type": "code",
   "execution_count": 46,
   "metadata": {},
   "outputs": [],
   "source": [
    "## 12th, explore the column 'time'\n",
    "sortTime_hf = hf.sort_values(by='time',ascending=False)"
   ]
  },
  {
   "cell_type": "code",
   "execution_count": 47,
   "metadata": {},
   "outputs": [
    {
     "data": {
      "text/html": [
       "<div>\n",
       "<style scoped>\n",
       "    .dataframe tbody tr th:only-of-type {\n",
       "        vertical-align: middle;\n",
       "    }\n",
       "\n",
       "    .dataframe tbody tr th {\n",
       "        vertical-align: top;\n",
       "    }\n",
       "\n",
       "    .dataframe thead th {\n",
       "        text-align: right;\n",
       "    }\n",
       "</style>\n",
       "<table border=\"1\" class=\"dataframe\">\n",
       "  <thead>\n",
       "    <tr style=\"text-align: right;\">\n",
       "      <th></th>\n",
       "      <th>age</th>\n",
       "      <th>anaemia</th>\n",
       "      <th>creatinine_phosphokinase</th>\n",
       "      <th>diabetes</th>\n",
       "      <th>ejection_fraction</th>\n",
       "      <th>high_blood_pressure</th>\n",
       "      <th>platelets</th>\n",
       "      <th>serum_creatinine</th>\n",
       "      <th>serum_sodium</th>\n",
       "      <th>sex</th>\n",
       "      <th>smoking</th>\n",
       "      <th>time</th>\n",
       "      <th>DEATH_EVENT</th>\n",
       "    </tr>\n",
       "  </thead>\n",
       "  <tbody>\n",
       "    <tr>\n",
       "      <th>298</th>\n",
       "      <td>50.0</td>\n",
       "      <td>0</td>\n",
       "      <td>196</td>\n",
       "      <td>0</td>\n",
       "      <td>45</td>\n",
       "      <td>0</td>\n",
       "      <td>395000.00</td>\n",
       "      <td>1.6</td>\n",
       "      <td>136</td>\n",
       "      <td>1</td>\n",
       "      <td>1</td>\n",
       "      <td>285</td>\n",
       "      <td>0</td>\n",
       "    </tr>\n",
       "    <tr>\n",
       "      <th>297</th>\n",
       "      <td>45.0</td>\n",
       "      <td>0</td>\n",
       "      <td>2413</td>\n",
       "      <td>0</td>\n",
       "      <td>38</td>\n",
       "      <td>0</td>\n",
       "      <td>140000.00</td>\n",
       "      <td>1.4</td>\n",
       "      <td>140</td>\n",
       "      <td>1</td>\n",
       "      <td>1</td>\n",
       "      <td>280</td>\n",
       "      <td>0</td>\n",
       "    </tr>\n",
       "    <tr>\n",
       "      <th>296</th>\n",
       "      <td>45.0</td>\n",
       "      <td>0</td>\n",
       "      <td>2060</td>\n",
       "      <td>1</td>\n",
       "      <td>60</td>\n",
       "      <td>0</td>\n",
       "      <td>742000.00</td>\n",
       "      <td>0.8</td>\n",
       "      <td>138</td>\n",
       "      <td>0</td>\n",
       "      <td>0</td>\n",
       "      <td>278</td>\n",
       "      <td>0</td>\n",
       "    </tr>\n",
       "    <tr>\n",
       "      <th>295</th>\n",
       "      <td>55.0</td>\n",
       "      <td>0</td>\n",
       "      <td>1820</td>\n",
       "      <td>0</td>\n",
       "      <td>38</td>\n",
       "      <td>0</td>\n",
       "      <td>270000.00</td>\n",
       "      <td>1.2</td>\n",
       "      <td>139</td>\n",
       "      <td>0</td>\n",
       "      <td>0</td>\n",
       "      <td>271</td>\n",
       "      <td>0</td>\n",
       "    </tr>\n",
       "    <tr>\n",
       "      <th>294</th>\n",
       "      <td>62.0</td>\n",
       "      <td>0</td>\n",
       "      <td>61</td>\n",
       "      <td>1</td>\n",
       "      <td>38</td>\n",
       "      <td>1</td>\n",
       "      <td>155000.00</td>\n",
       "      <td>1.1</td>\n",
       "      <td>143</td>\n",
       "      <td>1</td>\n",
       "      <td>1</td>\n",
       "      <td>270</td>\n",
       "      <td>0</td>\n",
       "    </tr>\n",
       "    <tr>\n",
       "      <th>...</th>\n",
       "      <td>...</td>\n",
       "      <td>...</td>\n",
       "      <td>...</td>\n",
       "      <td>...</td>\n",
       "      <td>...</td>\n",
       "      <td>...</td>\n",
       "      <td>...</td>\n",
       "      <td>...</td>\n",
       "      <td>...</td>\n",
       "      <td>...</td>\n",
       "      <td>...</td>\n",
       "      <td>...</td>\n",
       "      <td>...</td>\n",
       "    </tr>\n",
       "    <tr>\n",
       "      <th>5</th>\n",
       "      <td>90.0</td>\n",
       "      <td>1</td>\n",
       "      <td>47</td>\n",
       "      <td>0</td>\n",
       "      <td>40</td>\n",
       "      <td>1</td>\n",
       "      <td>204000.00</td>\n",
       "      <td>2.1</td>\n",
       "      <td>132</td>\n",
       "      <td>1</td>\n",
       "      <td>1</td>\n",
       "      <td>8</td>\n",
       "      <td>1</td>\n",
       "    </tr>\n",
       "    <tr>\n",
       "      <th>2</th>\n",
       "      <td>65.0</td>\n",
       "      <td>0</td>\n",
       "      <td>146</td>\n",
       "      <td>0</td>\n",
       "      <td>20</td>\n",
       "      <td>0</td>\n",
       "      <td>162000.00</td>\n",
       "      <td>1.3</td>\n",
       "      <td>129</td>\n",
       "      <td>1</td>\n",
       "      <td>1</td>\n",
       "      <td>7</td>\n",
       "      <td>1</td>\n",
       "    </tr>\n",
       "    <tr>\n",
       "      <th>3</th>\n",
       "      <td>50.0</td>\n",
       "      <td>1</td>\n",
       "      <td>111</td>\n",
       "      <td>0</td>\n",
       "      <td>20</td>\n",
       "      <td>0</td>\n",
       "      <td>210000.00</td>\n",
       "      <td>1.9</td>\n",
       "      <td>137</td>\n",
       "      <td>1</td>\n",
       "      <td>0</td>\n",
       "      <td>7</td>\n",
       "      <td>1</td>\n",
       "    </tr>\n",
       "    <tr>\n",
       "      <th>1</th>\n",
       "      <td>55.0</td>\n",
       "      <td>0</td>\n",
       "      <td>7861</td>\n",
       "      <td>0</td>\n",
       "      <td>38</td>\n",
       "      <td>0</td>\n",
       "      <td>263358.03</td>\n",
       "      <td>1.1</td>\n",
       "      <td>136</td>\n",
       "      <td>1</td>\n",
       "      <td>0</td>\n",
       "      <td>6</td>\n",
       "      <td>1</td>\n",
       "    </tr>\n",
       "    <tr>\n",
       "      <th>0</th>\n",
       "      <td>75.0</td>\n",
       "      <td>0</td>\n",
       "      <td>582</td>\n",
       "      <td>0</td>\n",
       "      <td>20</td>\n",
       "      <td>1</td>\n",
       "      <td>265000.00</td>\n",
       "      <td>1.9</td>\n",
       "      <td>130</td>\n",
       "      <td>1</td>\n",
       "      <td>0</td>\n",
       "      <td>4</td>\n",
       "      <td>1</td>\n",
       "    </tr>\n",
       "  </tbody>\n",
       "</table>\n",
       "<p>299 rows × 13 columns</p>\n",
       "</div>"
      ],
      "text/plain": [
       "      age  anaemia  creatinine_phosphokinase  diabetes  ejection_fraction  \\\n",
       "298  50.0        0                       196         0                 45   \n",
       "297  45.0        0                      2413         0                 38   \n",
       "296  45.0        0                      2060         1                 60   \n",
       "295  55.0        0                      1820         0                 38   \n",
       "294  62.0        0                        61         1                 38   \n",
       "..    ...      ...                       ...       ...                ...   \n",
       "5    90.0        1                        47         0                 40   \n",
       "2    65.0        0                       146         0                 20   \n",
       "3    50.0        1                       111         0                 20   \n",
       "1    55.0        0                      7861         0                 38   \n",
       "0    75.0        0                       582         0                 20   \n",
       "\n",
       "     high_blood_pressure  platelets  serum_creatinine  serum_sodium  sex  \\\n",
       "298                    0  395000.00               1.6           136    1   \n",
       "297                    0  140000.00               1.4           140    1   \n",
       "296                    0  742000.00               0.8           138    0   \n",
       "295                    0  270000.00               1.2           139    0   \n",
       "294                    1  155000.00               1.1           143    1   \n",
       "..                   ...        ...               ...           ...  ...   \n",
       "5                      1  204000.00               2.1           132    1   \n",
       "2                      0  162000.00               1.3           129    1   \n",
       "3                      0  210000.00               1.9           137    1   \n",
       "1                      0  263358.03               1.1           136    1   \n",
       "0                      1  265000.00               1.9           130    1   \n",
       "\n",
       "     smoking  time  DEATH_EVENT  \n",
       "298        1   285            0  \n",
       "297        1   280            0  \n",
       "296        0   278            0  \n",
       "295        0   271            0  \n",
       "294        1   270            0  \n",
       "..       ...   ...          ...  \n",
       "5          1     8            1  \n",
       "2          1     7            1  \n",
       "3          0     7            1  \n",
       "1          0     6            1  \n",
       "0          0     4            1  \n",
       "\n",
       "[299 rows x 13 columns]"
      ]
     },
     "execution_count": 47,
     "metadata": {},
     "output_type": "execute_result"
    }
   ],
   "source": [
    "sortTime_hf"
   ]
  },
  {
   "cell_type": "code",
   "execution_count": 48,
   "metadata": {},
   "outputs": [
    {
     "data": {
      "image/png": "[encoded data removed]",
      "text/plain": [
       "<Figure size 432x288 with 1 Axes>"
      ]
     },
     "metadata": {
      "needs_background": "light"
     },
     "output_type": "display_data"
    }
   ],
   "source": [
    "## Draw the histogram for 'time'. \n",
    "## Simply because it is clear to explore the most time frequency and the least.\n",
    "## so x-axis is 'time', y-axis is 'Frequency'\n",
    "## title is 'Heart failure clinical records- Time info'\n",
    "hf['time'].plot(kind='hist',bins = 40)\n",
    "plt.title('Heart failure clinical records- Time info')\n",
    "plt.xlabel('time')\n",
    "plt.show()"
   ]
  },
  {
   "cell_type": "code",
   "execution_count": 49,
   "metadata": {},
   "outputs": [
    {
     "data": {
      "image/png": "[encoded data removed]",
      "text/plain": [
       "<Figure size 432x288 with 1 Axes>"
      ]
     },
     "metadata": {
      "needs_background": "light"
     },
     "output_type": "display_data"
    }
   ],
   "source": [
    "hf['time'].plot(kind='density')\n",
    "plt.title('Heart failure clinical records- time density')\n",
    "plt.xlabel('time')\n",
    "plt.show()"
   ]
  },
  {
   "cell_type": "code",
   "execution_count": 50,
   "metadata": {},
   "outputs": [
    {
     "data": {
      "text/plain": [
       "Text(0.5, 1.0, '(Figure_13)- Percentage of DEATH_EVENT')"
      ]
     },
     "execution_count": 50,
     "metadata": {},
     "output_type": "execute_result"
    },
    {
     "data": {
      "image/png": "[encoded data removed]",
      "text/plain": [
       "<Figure size 432x288 with 1 Axes>"
      ]
     },
     "metadata": {},
     "output_type": "display_data"
    }
   ],
   "source": [
    "## 13th, explore column 'DEATH_EVENT', draw the pie chart for 'DEATH_EVENT'. \n",
    "##Simply because it is boolean, it is easy to show the illustrate numerical proportion by pie chart.\n",
    "#graph labels\n",
    "mylabels = [\"Non-Death\",\"Death\"]\n",
    "#graph\n",
    "plt.pie(hf['DEATH_EVENT'].value_counts(),labels=mylabels,autopct='%1.2f%%')\n",
    "plt.title('(Figure_13)- Percentage of DEATH_EVENT',size=16)"
   ]
  },
  {
   "cell_type": "markdown",
   "metadata": {},
   "source": [
    "## Explore the relationship between 10 pairs of attributes"
   ]
  },
  {
   "cell_type": "code",
   "execution_count": 51,
   "metadata": {},
   "outputs": [
    {
     "data": {
      "text/plain": [
       "<AxesSubplot:title={'center':'age'}, xlabel='anaemia'>"
      ]
     },
     "execution_count": 51,
     "metadata": {},
     "output_type": "execute_result"
    },
    {
     "data": {
      "image/png": "[encoded data removed]",
      "text/plain": [
       "<Figure size 432x288 with 1 Axes>"
      ]
     },
     "metadata": {
      "needs_background": "light"
     },
     "output_type": "display_data"
    }
   ],
   "source": [
    " ## (1st)Between 'Age' and 'anaemia'\n",
    "import numpy as np\n",
    "hf.dropna().boxplot(column='age',by='anaemia')\n",
    "#the hypothesis is, lack of relationships."
   ]
  },
  {
   "cell_type": "code",
   "execution_count": 52,
   "metadata": {},
   "outputs": [
    {
     "data": {
      "text/plain": [
       "<AxesSubplot:title={'center':'age'}, xlabel='diabetes'>"
      ]
     },
     "execution_count": 52,
     "metadata": {},
     "output_type": "execute_result"
    },
    {
     "data": {
      "image/png": "[encoded data removed]",
      "text/plain": [
       "<Figure size 432x288 with 1 Axes>"
      ]
     },
     "metadata": {
      "needs_background": "light"
     },
     "output_type": "display_data"
    }
   ],
   "source": [
    " ## (2nd)Between 'Age' and 'diabetes'\n",
    "hf.dropna().boxplot(column='age',by = 'diabetes')\n",
    "## the hypothesis is ,the younger the patient's age, the higher chance they will have diabetes."
   ]
  },
  {
   "cell_type": "code",
   "execution_count": 53,
   "metadata": {},
   "outputs": [
    {
     "data": {
      "text/plain": [
       "<AxesSubplot:title={'center':'age'}, xlabel='high_blood_pressure'>"
      ]
     },
     "execution_count": 53,
     "metadata": {},
     "output_type": "execute_result"
    },
    {
     "data": {
      "image/png": "[encoded data removed]",
      "text/plain": [
       "<Figure size 432x288 with 1 Axes>"
      ]
     },
     "metadata": {
      "needs_background": "light"
     },
     "output_type": "display_data"
    }
   ],
   "source": [
    " ## (3rd)Between 'Age' and 'high_blood_pressure'\n",
    "hf.dropna().boxplot(column='age',by = 'high_blood_pressure')\n",
    "## the hypothesis is ,the elder the patient's age, the higher chance they will have high blood pressure."
   ]
  },
  {
   "cell_type": "code",
   "execution_count": 54,
   "metadata": {},
   "outputs": [
    {
     "data": {
      "text/plain": [
       "<AxesSubplot:title={'center':'age'}, xlabel='DEATH_EVENT'>"
      ]
     },
     "execution_count": 54,
     "metadata": {},
     "output_type": "execute_result"
    },
    {
     "data": {
      "image/png": "[encoded data removed]",
      "text/plain": [
       "<Figure size 432x288 with 1 Axes>"
      ]
     },
     "metadata": {
      "needs_background": "light"
     },
     "output_type": "display_data"
    }
   ],
   "source": [
    " ## (4th)Between 'Age' and 'DEATH_EVENT'\n",
    "hf.dropna().boxplot(column='age',by = 'DEATH_EVENT')\n",
    "## the hypothesis is ,the elder the patient's age, the higher chance they will have heart failure."
   ]
  },
  {
   "cell_type": "code",
   "execution_count": 55,
   "metadata": {},
   "outputs": [
    {
     "data": {
      "text/plain": [
       "<AxesSubplot:title={'center':'age'}, xlabel='creatinine_phosphokinase'>"
      ]
     },
     "execution_count": 55,
     "metadata": {},
     "output_type": "execute_result"
    },
    {
     "data": {
      "image/png": "[encoded data removed]",
      "text/plain": [
       "<Figure size 432x288 with 1 Axes>"
      ]
     },
     "metadata": {
      "needs_background": "light"
     },
     "output_type": "display_data"
    }
   ],
   "source": [
    " ## (5th)Between 'age' and 'creatinine_phosphokinase'\n",
    "hf.dropna().boxplot(column='age',by = 'creatinine_phosphokinase')"
   ]
  },
  {
   "cell_type": "code",
   "execution_count": 56,
   "metadata": {},
   "outputs": [
    {
     "data": {
      "text/plain": [
       "<AxesSubplot:title={'center':'age'}, xlabel='ejection_fraction'>"
      ]
     },
     "execution_count": 56,
     "metadata": {},
     "output_type": "execute_result"
    },
    {
     "data": {
      "image/png": "[encoded data removed]",
      "text/plain": [
       "<Figure size 432x288 with 1 Axes>"
      ]
     },
     "metadata": {
      "needs_background": "light"
     },
     "output_type": "display_data"
    }
   ],
   "source": [
    " ## (6th)Between 'age' and 'ejection_fraction'\n",
    "hf.dropna().boxplot(column='age',by = 'ejection_fraction')"
   ]
  },
  {
   "cell_type": "code",
   "execution_count": 57,
   "metadata": {},
   "outputs": [
    {
     "data": {
      "text/plain": [
       "<AxesSubplot:title={'center':'platelets'}, xlabel='age'>"
      ]
     },
     "execution_count": 57,
     "metadata": {},
     "output_type": "execute_result"
    },
    {
     "data": {
      "image/png": "[encoded data removed]",
      "text/plain": [
       "<Figure size 432x288 with 1 Axes>"
      ]
     },
     "metadata": {
      "needs_background": "light"
     },
     "output_type": "display_data"
    }
   ],
   "source": [
    " ## (7th)Between 'age' and 'platelets'\n",
    "hf.dropna().boxplot(column='platelets',by = 'age')"
   ]
  },
  {
   "cell_type": "code",
   "execution_count": 58,
   "metadata": {},
   "outputs": [
    {
     "data": {
      "text/plain": [
       "<AxesSubplot:title={'center':'ejection_fraction'}, xlabel='DEATH_EVENT'>"
      ]
     },
     "execution_count": 58,
     "metadata": {},
     "output_type": "execute_result"
    },
    {
     "data": {
      "image/png": "[encoded data removed]",
      "text/plain": [
       "<Figure size 432x288 with 1 Axes>"
      ]
     },
     "metadata": {
      "needs_background": "light"
     },
     "output_type": "display_data"
    }
   ],
   "source": [
    " ## (8th)Between 'ejection_fraction' and 'DEATH_EVENT'\n",
    "hf.dropna().boxplot(column='ejection_fraction',by = 'DEATH_EVENT')"
   ]
  },
  {
   "cell_type": "code",
   "execution_count": 59,
   "metadata": {},
   "outputs": [
    {
     "data": {
      "text/plain": [
       "<AxesSubplot:title={'center':'serum_creatinine'}, xlabel='DEATH_EVENT'>"
      ]
     },
     "execution_count": 59,
     "metadata": {},
     "output_type": "execute_result"
    },
    {
     "data": {
      "image/png": "[encoded data removed]",
      "text/plain": [
       "<Figure size 432x288 with 1 Axes>"
      ]
     },
     "metadata": {
      "needs_background": "light"
     },
     "output_type": "display_data"
    }
   ],
   "source": [
    " ## (9th)Between 'serum_creatinine' and 'DEATH_EVENT'\n",
    "hf.dropna().boxplot(column='serum_creatinine',by = 'DEATH_EVENT')"
   ]
  },
  {
   "cell_type": "code",
   "execution_count": 60,
   "metadata": {},
   "outputs": [
    {
     "data": {
      "text/plain": [
       "<AxesSubplot:title={'center':'serum_sodium'}, xlabel='DEATH_EVENT'>"
      ]
     },
     "execution_count": 60,
     "metadata": {},
     "output_type": "execute_result"
    },
    {
     "data": {
      "image/png": "[encoded data removed]",
      "text/plain": [
       "<Figure size 432x288 with 1 Axes>"
      ]
     },
     "metadata": {
      "needs_background": "light"
     },
     "output_type": "display_data"
    }
   ],
   "source": [
    " ## (10th)Between 'serum_sodium' and 'DEATH_EVENT'\n",
    "hf.dropna().boxplot(column='serum_sodium',by = 'DEATH_EVENT')"
   ]
  },
  {
   "cell_type": "markdown",
   "metadata": {},
   "source": [
    "# Task 3: Data Modelling"
   ]
  },
  {
   "cell_type": "code",
   "execution_count": 61,
   "metadata": {},
   "outputs": [],
   "source": [
    "#Importing all modules used\n",
    "from sklearn.metrics import confusion_matrix\n",
    "from sklearn.metrics import classification_report\n",
    "from sklearn.neighbors import KNeighborsClassifier\n",
    "from sklearn.tree import DecisionTreeClassifier\n",
    "from sklearn.model_selection import train_test_split\n",
    "from sklearn.utils import shuffle\n",
    "from sklearn import metrics\n",
    "from statistics import mean\n",
    "from sklearn import tree\n",
    "import itertools"
   ]
  },
  {
   "cell_type": "code",
   "execution_count": 62,
   "metadata": {},
   "outputs": [],
   "source": [
    "#reading the cleaned data from task 2\n",
    "data = pd.read_csv('gryphon.csv')\n",
    "\n",
    "#seperating the target and features\n",
    "target = data['DEATH_EVENT']\n",
    "target.target_names = ['Alive', 'Deceased']\n",
    "features = data.drop(['DEATH_EVENT'], axis = 1)"
   ]
  },
  {
   "cell_type": "markdown",
   "metadata": {},
   "source": [
    "## KNeighborsClassifier: Parameter Tuning"
   ]
  },
  {
   "cell_type": "code",
   "execution_count": 63,
   "metadata": {},
   "outputs": [],
   "source": [
    "#Finding the best value of k to get the highest possible accuracy\n",
    "x_train,x_test,y_train,y_test = train_test_split(features,target,test_size=0.25,random_state=1)\n",
    "best=0.000\n",
    "\n",
    "#Will contain the best \"K\" value and then used for all future KNeighborsClassifiers\n",
    "k=0\n",
    "\n",
    "#Testing k with values 1-33 odd numbers because there is an even amount of classes. \n",
    "for i in range(1,100,2):\n",
    "    clf = KNeighborsClassifier(i)\n",
    "    #trying to fit the training data into my computer\n",
    "    train_model = clf.fit(x_train,y_train)\n",
    "    #test our model\n",
    "    pred = train_model.predict(x_test)\n",
    "    if metrics.accuracy_score(y_test,pred) > best :\n",
    "        best = metrics.accuracy_score(y_test,pred)\n",
    "        k = i"
   ]
  },
  {
   "cell_type": "code",
   "execution_count": 64,
   "metadata": {},
   "outputs": [
    {
     "data": {
      "text/plain": [
       "0.7333333333333333"
      ]
     },
     "execution_count": 64,
     "metadata": {},
     "output_type": "execute_result"
    }
   ],
   "source": [
    "best"
   ]
  },
  {
   "cell_type": "code",
   "execution_count": 65,
   "metadata": {},
   "outputs": [],
   "source": [
    "#Keep track of the best set of features to get the best accuracy for KNeighborsClassifier\n",
    "best_index_list = [] \n",
    "best_cur_MaxScore = 0.0\n",
    "col_num = 12"
   ]
  },
  {
   "cell_type": "markdown",
   "metadata": {},
   "source": [
    "## KNeighborsClassifier: Feature Filtering"
   ]
  },
  {
   "cell_type": "code",
   "execution_count": 66,
   "metadata": {},
   "outputs": [],
   "source": [
    "#Permutation attempt to ensure all posible combinations of indexes but takes too long\n",
    "#and lack of variety of indexes in the first permutations. \n",
    "#for i in itertools.permutations(range(0,12)):\n",
    "#    random_index_list = i\n",
    "\n",
    "#Randon_state Range Attempt. Also took too long to go over all 490,000,000 possible combinations\n",
    "#so limited range to 1000 instead. Still takes 1-5 mins to fnish. Further research needed to know \n",
    "#if changing range to 490M of random_state of shuffle actually goes through every possible arrangement.\n",
    "for x in range(0,1250):\n",
    "    index_list = []\n",
    "    cur_MaxScore = 0.0\n",
    "    random_index_list = shuffle(range(0,col_num),random_state=x)\n",
    "    for curr_feature_index in range(0,col_num):\n",
    "        index_list.append(random_index_list[curr_feature_index])\n",
    "        new_df = data.iloc[:,index_list]\n",
    "        x_train,x_test,y_train,y_test = train_test_split(new_df,target,test_size=0.25,random_state=1)\n",
    "        clf = KNeighborsClassifier(k)\n",
    "        train_model = clf.fit(x_train,y_train)\n",
    "        if cur_MaxScore < clf.score(x_test,y_test) :\n",
    "            cur_MaxScore = clf.score(x_test,y_test)\n",
    "        else:\n",
    "            index_list.remove(random_index_list[curr_feature_index])\n",
    "    \n",
    "    if cur_MaxScore == best_cur_MaxScore and len(best_index_list) < len(index_list):\n",
    "        best_cur_MaxScore = cur_MaxScore\n",
    "        best_index_list = index_list\n",
    "            \n",
    "    if cur_MaxScore > best_cur_MaxScore:\n",
    "        best_cur_MaxScore = cur_MaxScore\n",
    "        best_index_list = index_list"
   ]
  },
  {
   "cell_type": "markdown",
   "metadata": {},
   "source": [
    "## KNeighborsClassifier: Final First Classification Model"
   ]
  },
  {
   "cell_type": "code",
   "execution_count": 67,
   "metadata": {},
   "outputs": [
    {
     "name": "stdout",
     "output_type": "stream",
     "text": [
      "              precision    recall  f1-score   support\n",
      "\n",
      "           0       0.87      0.98      0.92        55\n",
      "           1       0.92      0.60      0.73        20\n",
      "\n",
      "    accuracy                           0.88        75\n",
      "   macro avg       0.90      0.79      0.83        75\n",
      "weighted avg       0.88      0.88      0.87        75\n",
      "\n"
     ]
    }
   ],
   "source": [
    "cm1_df = data.iloc[:,best_index_list]\n",
    "x_train,x_test,y_train,y_test = train_test_split(cm1_df,target,test_size=0.25,random_state=1)\n",
    "clf = KNeighborsClassifier(k)\n",
    "train_model = clf.fit(x_train,y_train)\n",
    "pred = train_model.predict(x_test)\n",
    "print(classification_report(y_test,pred))"
   ]
  },
  {
   "cell_type": "code",
   "execution_count": 68,
   "metadata": {},
   "outputs": [
    {
     "data": {
      "text/plain": [
       "0.88"
      ]
     },
     "execution_count": 68,
     "metadata": {},
     "output_type": "execute_result"
    }
   ],
   "source": [
    "clf.score(x_test,y_test)"
   ]
  },
  {
   "cell_type": "code",
   "execution_count": 69,
   "metadata": {},
   "outputs": [
    {
     "data": {
      "text/plain": [
       "Index(['smoking', 'serum_creatinine', 'serum_sodium', 'ejection_fraction',\n",
       "       'sex', 'age', 'time'],\n",
       "      dtype='object')"
      ]
     },
     "execution_count": 69,
     "metadata": {},
     "output_type": "execute_result"
    }
   ],
   "source": [
    "cm1_df.columns"
   ]
  },
  {
   "cell_type": "code",
   "execution_count": 70,
   "metadata": {},
   "outputs": [
    {
     "data": {
      "text/plain": [
       "[10, 7, 8, 4, 9, 0, 11]"
      ]
     },
     "execution_count": 70,
     "metadata": {},
     "output_type": "execute_result"
    }
   ],
   "source": [
    "best_index_list"
   ]
  },
  {
   "cell_type": "markdown",
   "metadata": {},
   "source": [
    "## DecisionTreeClassifier: Parameter Tuning"
   ]
  },
  {
   "cell_type": "code",
   "execution_count": 71,
   "metadata": {},
   "outputs": [],
   "source": [
    "x_train,x_test,y_train,y_test = train_test_split(features,target,test_size=0.25,random_state=1)\n",
    "clf = DecisionTreeClassifier(criterion='entropy',min_samples_split=8)\n",
    "train_model = clf.fit(x_train,y_train)\n",
    "pred = train_model.predict(x_test)"
   ]
  },
  {
   "cell_type": "code",
   "execution_count": 72,
   "metadata": {},
   "outputs": [
    {
     "data": {
      "text/plain": [
       "0.8266666666666667"
      ]
     },
     "execution_count": 72,
     "metadata": {},
     "output_type": "execute_result"
    }
   ],
   "source": [
    "clf.score(x_test,y_test)"
   ]
  },
  {
   "cell_type": "code",
   "execution_count": 73,
   "metadata": {},
   "outputs": [],
   "source": [
    "#Keep track of the best set of features to get the best accuracy for DecisionTreeClassifier\n",
    "best_index_list = [] \n",
    "best_cur_MaxScore = 0.0\n",
    "col_num = 12"
   ]
  },
  {
   "cell_type": "markdown",
   "metadata": {},
   "source": [
    "## DecisionTreeClassifier: Feature Filtering"
   ]
  },
  {
   "cell_type": "code",
   "execution_count": 74,
   "metadata": {},
   "outputs": [],
   "source": [
    "#Same method used when feature filtering for KNeighborsClassifier. Because training has a high chance\n",
    "#of getting a different accuracy score, an average of 10 scores is taken per feature combination. \n",
    "#Because of that, running this may take up to 10mins. Reduced range to save time.\n",
    "for x in range(0,500):\n",
    "    index_list = []\n",
    "    cur_MaxScore = 0.0\n",
    "    random_index_list = shuffle(range(0,col_num),random_state=x)\n",
    "    for curr_feature_index in range(0,col_num):\n",
    "        index_list.append(random_index_list[curr_feature_index])\n",
    "        new_df = data.iloc[:,index_list]\n",
    "        x_train,x_test,y_train,y_test = train_test_split(new_df,target,test_size=0.25,random_state=1)\n",
    "        clf = DecisionTreeClassifier(criterion='entropy',min_samples_split=8)\n",
    "        scores = []\n",
    "        for y in range(0,10):\n",
    "            train_model = clf.fit(x_train,y_train)\n",
    "            scores.append(clf.score(x_test,y_test))          \n",
    "        \n",
    "        \n",
    "        if cur_MaxScore < mean(scores) :\n",
    "            cur_MaxScore = mean(scores)\n",
    "        else:\n",
    "            index_list.remove(random_index_list[curr_feature_index])\n",
    "    \n",
    "    if cur_MaxScore == best_cur_MaxScore and len(best_index_list) > len(index_list):\n",
    "        best_cur_MaxScore = cur_MaxScore\n",
    "        best_index_list = index_list\n",
    "            \n",
    "    if cur_MaxScore > best_cur_MaxScore:\n",
    "        best_cur_MaxScore = cur_MaxScore\n",
    "        best_index_list = index_list"
   ]
  },
  {
   "cell_type": "markdown",
   "metadata": {},
   "source": [
    "## DecisionTreeClassifier: Final Second Classification Model"
   ]
  },
  {
   "cell_type": "code",
   "execution_count": 75,
   "metadata": {},
   "outputs": [
    {
     "name": "stdout",
     "output_type": "stream",
     "text": [
      "              precision    recall  f1-score   support\n",
      "\n",
      "           0       0.93      0.93      0.93        55\n",
      "           1       0.80      0.80      0.80        20\n",
      "\n",
      "    accuracy                           0.89        75\n",
      "   macro avg       0.86      0.86      0.86        75\n",
      "weighted avg       0.89      0.89      0.89        75\n",
      "\n"
     ]
    },
    {
     "data": {
      "text/plain": [
       "0.8933333333333333"
      ]
     },
     "execution_count": 75,
     "metadata": {},
     "output_type": "execute_result"
    }
   ],
   "source": [
    "cm2_df = data.iloc[:,best_index_list]\n",
    "x_train,x_test,y_train,y_test = train_test_split(cm2_df,target,test_size=0.25,random_state=1)\n",
    "clf = DecisionTreeClassifier(criterion='entropy',min_samples_split=8)\n",
    "train_model = clf.fit(x_train,y_train)\n",
    "pred = train_model.predict(x_test)\n",
    "print(classification_report(y_test,pred))\n",
    "clf.score(x_test,y_test)"
   ]
  },
  {
   "cell_type": "code",
   "execution_count": 76,
   "metadata": {},
   "outputs": [
    {
     "data": {
      "text/plain": [
       "0.8933333333333333"
      ]
     },
     "execution_count": 76,
     "metadata": {},
     "output_type": "execute_result"
    }
   ],
   "source": [
    "clf.score(x_test,y_test)"
   ]
  },
  {
   "cell_type": "code",
   "execution_count": 77,
   "metadata": {},
   "outputs": [
    {
     "data": {
      "text/plain": [
       "Index(['platelets', 'sex', 'ejection_fraction', 'time', 'high_blood_pressure',\n",
       "       'serum_creatinine', 'age'],\n",
       "      dtype='object')"
      ]
     },
     "execution_count": 77,
     "metadata": {},
     "output_type": "execute_result"
    }
   ],
   "source": [
    "cm2_df.columns"
   ]
  },
  {
   "cell_type": "code",
   "execution_count": 78,
   "metadata": {},
   "outputs": [
    {
     "data": {
      "text/plain": [
       "[6, 9, 4, 11, 5, 7, 0]"
      ]
     },
     "execution_count": 78,
     "metadata": {},
     "output_type": "execute_result"
    }
   ],
   "source": [
    "best_index_list"
   ]
  },
  {
   "cell_type": "code",
   "execution_count": 79,
   "metadata": {},
   "outputs": [],
   "source": [
    "#Create Tree Visualization\n",
    "with open('heart_failure.dot','w') as f:\n",
    "    f = tree.export_graphviz(clf, out_file= f,\n",
    "        feature_names=cm2_df.columns,\n",
    "        class_names=target.target_names, filled=True, rounded=True,\n",
    "        special_characters=True)"
   ]
  },
  {
   "cell_type": "code",
   "execution_count": null,
   "metadata": {},
   "outputs": [],
   "source": []
  }
 ],
 "metadata": {
  "kernelspec": {
   "display_name": "Python 3",
   "language": "python",
   "name": "python3"
  },
  "language_info": {
   "codemirror_mode": {
    "name": "ipython",
    "version": 3
   },
   "file_extension": ".py",
   "mimetype": "text/x-python",
   "name": "python",
   "nbconvert_exporter": "python",
   "pygments_lexer": "ipython3",
   "version": "3.8.5"
  }
 },
 "nbformat": 4,
 "nbformat_minor": 4
}
